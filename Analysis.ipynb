{
 "cells": [
  {
   "cell_type": "code",
   "execution_count": null,
   "outputs": [],
   "source": [
    "import numpy as np\n",
    "import pandas as pd\n",
    "import seaborn as sns\n",
    "import matplotlib as plt\n",
    "%matplotlib inline\n",
    "\n",
    "msc_stage1_dir = 'E:\\Books\\Software engineering\\Master\\RESEARCH METHODS\\Project\\Data\\stage1.csv'\n",
    "msc_stage2_dir = 'E:\\Books\\Software engineering\\Master\\RESEARCH METHODS\\Project\\Data\\stage2.csv'\n",
    "bsc_stage1_dir = 'E:\\\\Books\\\\Software engineering\\\\Master\\\\RESEARCH METHODS\\\\Project\\\\Data\\\\BscStage1.xlsx'\n",
    "bsc_stage2_dir = 'E:\\\\Books\\\\Software engineering\\\\Master\\\\RESEARCH METHODS\\\\Project\\\\Data\\\\BscStage2.xlsx'\n",
    "\n",
    "df_msc_stage1 = pd.read_csv(msc_stage1_dir, usecols=['major', 'undergraduate_major', 'year', 'sw_experince',\n",
    "                                                     'IEEE_ACM', 'taken_c_e_e', 'software_engineering_impact',\n",
    "                                                     'support_req_credit_hrs', 'support_training_on_job',\n",
    "                                                     'support_pro_licensing'])\n",
    "df_msc_stage2 = pd.read_csv(msc_stage2_dir, usecols=['major', 'undergraduate_major', 'year', 'sw_experince',\n",
    "                                                     'IEEE_ACM', 'taken_c_e_e', 'software_engineering_impact',\n",
    "                                                     'support_req_credit_hrs', 'support_training_on_job',\n",
    "                                                     'support_pro_licensing'])\n",
    "df_bsc_stage1 = pd.read_excel(bsc_stage1_dir)\n",
    "df_bsc_stage2 = pd.read_excel(bsc_stage2_dir)\n",
    "print(df_msc_stage1.dtypes)\n",
    "support_impact = df_msc_stage1[df_msc_stage1['software_engineering_impact'] >= 4]\n",
    "#sns.load_dataset('data')\n",
    "sns.distplot(support_impact['software_engineering_impact'])\n",
    "plt.\n"
   ],
   "metadata": {
    "collapsed": false,
    "pycharm": {
     "name": "#%%\n"
    }
   }
  },
  {
   "cell_type": "code",
   "execution_count": null,
   "outputs": [],
   "source": [
    "print('fewosifw')"
   ],
   "metadata": {
    "collapsed": false,
    "pycharm": {
     "name": "#%%\n"
    }
   }
  },
  {
   "cell_type": "code",
   "execution_count": null,
   "outputs": [],
   "source": [
    "\n"
   ],
   "metadata": {
    "collapsed": false,
    "pycharm": {
     "name": "#%%\n"
    }
   }
  }
 ],
 "metadata": {
  "language_info": {
   "codemirror_mode": {
    "name": "ipython",
    "version": 2
   },
   "file_extension": ".py",
   "mimetype": "text/x-python",
   "name": "python",
   "nbconvert_exporter": "python",
   "pygments_lexer": "ipython2",
   "version": "2.7.6"
  },
  "kernelspec": {
   "name": "python3",
   "language": "python",
   "display_name": "Python 3"
  },
  "pycharm": {
   "stem_cell": {
    "cell_type": "raw",
    "source": [],
    "metadata": {
     "collapsed": false
    }
   }
  }
 },
 "nbformat": 4,
 "nbformat_minor": 0
}